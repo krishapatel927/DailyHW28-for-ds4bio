{
  "nbformat": 4,
  "nbformat_minor": 0,
  "metadata": {
    "colab": {
      "provenance": []
    },
    "kernelspec": {
      "name": "python3",
      "display_name": "Python 3"
    },
    "language_info": {
      "name": "python"
    }
  },
  "cells": [
    {
      "cell_type": "code",
      "execution_count": null,
      "metadata": {
        "id": "Zu0BAWkStilm"
      },
      "outputs": [],
      "source": [
        "#1) name one purpose for github?\n",
        "# One purpose for github is to facilitate collaborative software development by providing a centralized location for storing and managing source code.\n",
        "\n",
        "#2) describe what is version control in your own words and how it could help you in your project?\n",
        "# Version control is a system that keeps track of changes to files over time. It functions as a project time machine, facilitating collaboration by allowing multiple people to work concurrently without conflict. With my project it can help see other version if needed and provide a clear history of changes.\n",
        "\n",
        "#3) explain how in a group project (which we are not doing) github could help manage collaboration.\n",
        "# In a group project github sipports branching and merging for independent work. Uses pull requests for propsing, reviewing , and discussing change. It also provides issue tracking for bugs reports and feature dissussion and it offers collaborative tools."
      ]
    }
  ]
}